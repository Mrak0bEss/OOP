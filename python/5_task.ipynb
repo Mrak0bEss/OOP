{
 "cells": [
  {
   "cell_type": "markdown",
   "id": "85755de8",
   "metadata": {},
   "source": [
    "# Самостоятельное задание #5\n",
    "\n",
    "\n",
    "### Задание 1\n",
    "\n",
    "Допишите функцию, которая принимает список, выбирает из него все элементы с четным индексом и возвращает их в виде списка."
   ]
  },
  {
   "cell_type": "code",
   "execution_count": 2,
   "id": "6ef6d9b3",
   "metadata": {},
   "outputs": [
    {
     "name": "stdout",
     "output_type": "stream",
     "text": [
      "[0, 2]\n"
     ]
    }
   ],
   "source": [
    "# Начните писать код тут\n",
    "def spisok(arr):\n",
    "    res = []\n",
    "    for i in range(0, len(arr), 2):\n",
    "        res.append(arr[i])\n",
    "    return res\n",
    "print(spisok([0, 1, 2, 3]))"
   ]
  },
  {
   "cell_type": "markdown",
   "id": "443974c9",
   "metadata": {},
   "source": [
    "### Задание 2\n",
    "\n",
    "Допишите функцию, которая принимает список, выбирает из него все элементы, которые больше предыдущего и возвращает их в виде списка.\n"
   ]
  },
  {
   "cell_type": "code",
   "execution_count": 4,
   "id": "3a8cf925",
   "metadata": {},
   "outputs": [
    {
     "name": "stdout",
     "output_type": "stream",
     "text": [
      "[1, 2]\n"
     ]
    }
   ],
   "source": [
    "# Начните писать код тут\n",
    "def more(arr):\n",
    "    res = []\n",
    "    for i in range(1, len(arr)):\n",
    "        if (arr[i] > arr[i - 1]):\n",
    "            res.append(arr[i])\n",
    "    return res\n",
    "print(more([0, 1, 2, 1]))"
   ]
  },
  {
   "cell_type": "markdown",
   "id": "34524ede",
   "metadata": {},
   "source": [
    "### Задание 3\n",
    "\n",
    "Допишите функцию, которая принимает список, меняет местами наибольший и наименьший элементы и возвращает этот список."
   ]
  },
  {
   "cell_type": "code",
   "execution_count": 6,
   "id": "34d2beae",
   "metadata": {},
   "outputs": [
    {
     "name": "stdout",
     "output_type": "stream",
     "text": [
      "[3, 1, 2, 0]\n"
     ]
    }
   ],
   "source": [
    "# Начните писать код тут\n",
    "def rev(arr):\n",
    "    mini = arr.index(min(arr))\n",
    "    maxi = arr.index(max(arr))\n",
    "    arr[mini], arr[maxi] = arr[maxi], arr[mini]\n",
    "    return arr\n",
    "    \n",
    "arr = [0, 1, 2, 3]\n",
    "print(rev(arr))"
   ]
  }
 ],
 "metadata": {
  "kernelspec": {
   "display_name": "Python 3.10.6 64-bit",
   "language": "python",
   "name": "python3"
  },
  "language_info": {
   "codemirror_mode": {
    "name": "ipython",
    "version": 3
   },
   "file_extension": ".py",
   "mimetype": "text/x-python",
   "name": "python",
   "nbconvert_exporter": "python",
   "pygments_lexer": "ipython3",
   "version": "3.10.6"
  },
  "vscode": {
   "interpreter": {
    "hash": "8609ca583e98ffc7066ffad2b4f6aa24c6886003f47523523d1d146cf630893c"
   }
  }
 },
 "nbformat": 4,
 "nbformat_minor": 5
}
