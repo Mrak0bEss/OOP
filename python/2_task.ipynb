{
 "cells": [
  {
   "cell_type": "markdown",
   "id": "246424fe",
   "metadata": {},
   "source": [
    "# Самостоятельная работа #2\n",
    "### Задание 1\n",
    "\n",
    "Допишите функцию, которая принимает 2 числа, сравнивает между собой и возвращает наименьшее."
   ]
  },
  {
   "cell_type": "code",
   "execution_count": 3,
   "id": "1b225d18",
   "metadata": {},
   "outputs": [
    {
     "name": "stdout",
     "output_type": "stream",
     "text": [
      "1\n"
     ]
    }
   ],
   "source": [
    "# Начните писать код тут\n",
    "def twoNum(a,b:int):\n",
    "    if a<b :\n",
    "        return a\n",
    "    else: return b\n",
    "i=int(input())\n",
    "j=int(input())\n",
    "print(twoNum(i,j))\n",
    "    \n"
   ]
  },
  {
   "cell_type": "markdown",
   "id": "9342d85f",
   "metadata": {},
   "source": [
    "### Задание 2\n",
    "\n",
    "Допишите функцию, которая принимает 3 числа, сравнивает между собой и возвращает наименьшее."
   ]
  },
  {
   "cell_type": "code",
   "execution_count": 6,
   "id": "5371aa95",
   "metadata": {},
   "outputs": [
    {
     "name": "stdout",
     "output_type": "stream",
     "text": [
      "2\n"
     ]
    }
   ],
   "source": [
    "# Начните писать код тут\n",
    "def trNum(a,b,c:int):\n",
    "    if a<=b and a<c :\n",
    "        return a\n",
    "    elif c<b and c<=a :\n",
    "        return c\n",
    "    elif b<a and b<=c:\n",
    "        return b\n",
    "i=int(input())\n",
    "j=int(input())\n",
    "y=int(input())\n",
    "print(trNum(i,j,y))"
   ]
  },
  {
   "cell_type": "markdown",
   "id": "9ef85dfd",
   "metadata": {},
   "source": [
    "### Задание 2\n",
    "\n",
    "Допишите функцию, которая принимает 3 числа, сравнивает между собой и возвращает количество совпадающих чисел. Соответственно, программа может возвращать одно из трех чисел: 3 - если совпадают все, 2 - если совпадают 2 числа, 0 - если все числа различны."
   ]
  },
  {
   "cell_type": "code",
   "execution_count": 11,
   "id": "ec6a169c",
   "metadata": {},
   "outputs": [
    {
     "name": "stdout",
     "output_type": "stream",
     "text": [
      "2\n"
     ]
    }
   ],
   "source": [
    "# Начните писать код тут\n",
    "def comp(a,b,c:int):\n",
    "    if a==b==c:\n",
    "        return 3\n",
    "    elif a==b or a==c or c==b:\n",
    "        return 2\n",
    "    else: return 0\n",
    "i=int(input())\n",
    "j=int(input())\n",
    "y=int(input())\n",
    "print(comp(i,j,y))  "
   ]
  }
 ],
 "metadata": {
  "kernelspec": {
   "display_name": "Python 3.10.6 64-bit",
   "language": "python",
   "name": "python3"
  },
  "language_info": {
   "codemirror_mode": {
    "name": "ipython",
    "version": 3
   },
   "file_extension": ".py",
   "mimetype": "text/x-python",
   "name": "python",
   "nbconvert_exporter": "python",
   "pygments_lexer": "ipython3",
   "version": "3.10.6"
  },
  "vscode": {
   "interpreter": {
    "hash": "8609ca583e98ffc7066ffad2b4f6aa24c6886003f47523523d1d146cf630893c"
   }
  }
 },
 "nbformat": 4,
 "nbformat_minor": 5
}
